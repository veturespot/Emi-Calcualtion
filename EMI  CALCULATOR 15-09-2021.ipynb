{
 "cells": [
  {
   "cell_type": "code",
   "execution_count": 1,
   "id": "383c8c1f",
   "metadata": {},
   "outputs": [],
   "source": [
    "import pandas as pd\n",
    "import numpy as np"
   ]
  },
  {
   "cell_type": "markdown",
   "id": "68cae85a",
   "metadata": {},
   "source": [
    "Radha is planning to buy a house that costs ₹1,260,000.She considering two options to finance her purchase:\n",
    "- Option :1 make an immediate down payment of ₹300,000 and take loan 8-year loan with an interest rate of 10% per annum(compound monthly) for the remaining amount.\n",
    "- Option :2 take a 10-year loan with an interest rate of 8% per annum(compound monthly) for the entire amount.\n",
    "\n",
    "Both these loans have to paid back in equal monthly installments(EMIs). which loan has a lower EMI among these?"
   ]
  },
  {
   "cell_type": "markdown",
   "id": "9a4bb142",
   "metadata": {},
   "source": [
    "##GIVEN DATA :\n",
    " - Cost of the house\n",
    " - Down payment\n",
    " - Duration of loan\n",
    " -rate of interest"
   ]
  },
  {
   "cell_type": "code",
   "execution_count": 2,
   "id": "9765cdf0",
   "metadata": {},
   "outputs": [],
   "source": [
    "def loan_emi(amount):\n",
    "    emi=amount/12\n",
    "    print(\"EMI is ₹{}\".format(emi))"
   ]
  },
  {
   "cell_type": "code",
   "execution_count": 3,
   "id": "6680cd68",
   "metadata": {},
   "outputs": [
    {
     "name": "stdout",
     "output_type": "stream",
     "text": [
      "EMI is ₹105000.0\n"
     ]
    }
   ],
   "source": [
    "loan_emi(1260000)"
   ]
  },
  {
   "cell_type": "markdown",
   "id": "dff55975",
   "metadata": {},
   "source": [
    "# Local variables and Scope\n",
    "- lets add a second argument to account for the duration of the loan , in months\n",
    "-LOCAL VARIABLES - All the variables used within the function is only avlailable within the function"
   ]
  },
  {
   "cell_type": "code",
   "execution_count": 4,
   "id": "2b1bc9c2",
   "metadata": {},
   "outputs": [],
   "source": [
    "def loan_emi(amount,duration):\n",
    "    emi=amount/duration\n",
    "    print(\"EMI is ₹{}\".format(emi))"
   ]
  },
  {
   "cell_type": "code",
   "execution_count": 5,
   "id": "34a5eeb7",
   "metadata": {},
   "outputs": [
    {
     "name": "stdout",
     "output_type": "stream",
     "text": [
      "EMI is ₹10500.0\n"
     ]
    }
   ],
   "source": [
    "loan_emi(1260000,10*12) # for 10% interest rate"
   ]
  },
  {
   "cell_type": "code",
   "execution_count": 6,
   "id": "817961f0",
   "metadata": {},
   "outputs": [
    {
     "name": "stdout",
     "output_type": "stream",
     "text": [
      "EMI is ₹13125.0\n"
     ]
    }
   ],
   "source": [
    "loan_emi(1260000,8*12) # for 8% interest rate"
   ]
  },
  {
   "cell_type": "markdown",
   "id": "97a44c46",
   "metadata": {},
   "source": [
    "# Return Values\n",
    "As you might expect , the EMI of 8-yr loan is higher compared to 10-yr loan.\n",
    "It would be better to return it and store the results in variables for easy comparison.\n",
    "- use return statement"
   ]
  },
  {
   "cell_type": "code",
   "execution_count": 7,
   "id": "ec36d88f",
   "metadata": {},
   "outputs": [],
   "source": [
    "def loan_emi(amount,duration):\n",
    "    emi=amount/duration\n",
    "    return emi"
   ]
  },
  {
   "cell_type": "code",
   "execution_count": 8,
   "id": "1eccf733",
   "metadata": {},
   "outputs": [],
   "source": [
    "emi1 = loan_emi(1260000,8*12)\n",
    "emi2 = loan_emi(1260000,10*12)"
   ]
  },
  {
   "cell_type": "code",
   "execution_count": 9,
   "id": "e939d63c",
   "metadata": {},
   "outputs": [
    {
     "data": {
      "text/plain": [
       "2625.0"
      ]
     },
     "execution_count": 9,
     "metadata": {},
     "output_type": "execute_result"
    }
   ],
   "source": [
    "emi1-emi2"
   ]
  },
  {
   "cell_type": "markdown",
   "id": "89065c0b",
   "metadata": {},
   "source": [
    "# Optional Arguments\n",
    "Now add another argument to account fot the down payment ."
   ]
  },
  {
   "cell_type": "code",
   "execution_count": 10,
   "id": "0afc410f",
   "metadata": {},
   "outputs": [],
   "source": [
    "def loan_emi(amount,duration,down_payment=0):\n",
    "    loan_amount=amount-down_payment\n",
    "    emi=loan_amount/duration\n",
    "    return emi"
   ]
  },
  {
   "cell_type": "code",
   "execution_count": 11,
   "id": "5906d05d",
   "metadata": {},
   "outputs": [],
   "source": [
    "emi1=loan_emi(1260000,8*12,300000) #downpayment is given"
   ]
  },
  {
   "cell_type": "code",
   "execution_count": 12,
   "id": "c65cadcf",
   "metadata": {},
   "outputs": [
    {
     "data": {
      "text/plain": [
       "10000.0"
      ]
     },
     "execution_count": 12,
     "metadata": {},
     "output_type": "execute_result"
    }
   ],
   "source": [
    "emi1"
   ]
  },
  {
   "cell_type": "code",
   "execution_count": 13,
   "id": "4d992271",
   "metadata": {},
   "outputs": [
    {
     "data": {
      "text/plain": [
       "10500.0"
      ]
     },
     "execution_count": 13,
     "metadata": {},
     "output_type": "execute_result"
    }
   ],
   "source": [
    "emi2=loan_emi(1260000,10*12) #no downpayment here\n",
    "emi2"
   ]
  },
  {
   "cell_type": "markdown",
   "id": "8fef080e",
   "metadata": {},
   "source": [
    "# Next , lets add the interest calculation into the function. \n",
    "-- formula used to calculate the EMI for a loan: \n",
    "\n",
    "# EMI =P x r x (1+r)^n /(1+r)^n -1\n",
    "\n",
    "- p is loan amount\n",
    "- n is no. of months\n",
    "- r is rate of interest per month"
   ]
  },
  {
   "cell_type": "code",
   "execution_count": 14,
   "id": "3a1413f6",
   "metadata": {},
   "outputs": [],
   "source": [
    "def loan_emi(amount,duration,rate,down_payment=0):\n",
    "    loan_amount=amount-down_payment\n",
    "    emi=loan_amount*rate*((1+rate)**duration)/(((1+rate)**duration)-1)\n",
    "    return emi\n",
    "    "
   ]
  },
  {
   "cell_type": "code",
   "execution_count": 15,
   "id": "5b35bc31",
   "metadata": {},
   "outputs": [
    {
     "data": {
      "text/plain": [
       "14567.19753389219"
      ]
     },
     "execution_count": 15,
     "metadata": {},
     "output_type": "execute_result"
    }
   ],
   "source": [
    "emi1=loan_emi(1260000,8*12,0.1/12,300000)\n",
    "emi1"
   ]
  },
  {
   "cell_type": "code",
   "execution_count": 16,
   "id": "c4d7b4ac",
   "metadata": {},
   "outputs": [
    {
     "data": {
      "text/plain": [
       "15287.276888775077"
      ]
     },
     "execution_count": 16,
     "metadata": {},
     "output_type": "execute_result"
    }
   ],
   "source": [
    "emi2=loan_emi(1260000,10*12,0.08/12)\n",
    "emi2"
   ]
  },
  {
   "cell_type": "markdown",
   "id": "a895e765",
   "metadata": {},
   "source": [
    "WHAT WILL HAPPEN IF YOU ENTER THE VALUES IN DIFFERENT ORDER ???\n",
    " - YES :) , the answer will be incorrect. To avoid this we use named arguments ,  and it is easy understandable."
   ]
  },
  {
   "cell_type": "markdown",
   "id": "612704bb",
   "metadata": {},
   "source": [
    "# NAMED ARGUMENTS\n",
    "## here we can change the order , because we are naming them\n"
   ]
  },
  {
   "cell_type": "code",
   "execution_count": 17,
   "id": "1279962f",
   "metadata": {},
   "outputs": [],
   "source": [
    "emi1=loan_emi(amount=1260000,duration=8*12,rate=0.1/12,down_payment=300000)"
   ]
  },
  {
   "cell_type": "code",
   "execution_count": 18,
   "id": "d8c546d7",
   "metadata": {},
   "outputs": [
    {
     "data": {
      "text/plain": [
       "14567.19753389219"
      ]
     },
     "execution_count": 18,
     "metadata": {},
     "output_type": "execute_result"
    }
   ],
   "source": [
    "emi1"
   ]
  },
  {
   "cell_type": "code",
   "execution_count": 19,
   "id": "3908d0dd",
   "metadata": {},
   "outputs": [],
   "source": [
    "emi2=loan_emi(amount=1260000,duration=10*12,rate=0.08/12)"
   ]
  },
  {
   "cell_type": "code",
   "execution_count": 20,
   "id": "04e29ab5",
   "metadata": {},
   "outputs": [
    {
     "data": {
      "text/plain": [
       "15287.276888775077"
      ]
     },
     "execution_count": 20,
     "metadata": {},
     "output_type": "execute_result"
    }
   ],
   "source": [
    "emi2"
   ]
  },
  {
   "cell_type": "code",
   "execution_count": null,
   "id": "e2d5d616",
   "metadata": {},
   "outputs": [],
   "source": []
  },
  {
   "cell_type": "markdown",
   "id": "5b6307ee",
   "metadata": {},
   "source": [
    "## MODULES and LiBRARY FUNCTIONS\n",
    "\n",
    "We can already see that the EMI for Option 1 seems to be lower than the EMI for Option 2.However , it would be nice to round up the amount to full rupees, rather than including digits after the decimal.\n",
    "\n",
    "- functions are organize into modules , which need to imported in order to use the functions they contain."
   ]
  },
  {
   "cell_type": "markdown",
   "id": "11dfea63",
   "metadata": {},
   "source": [
    "### MODULES : Modules are files containing python code(variables,func,classes,etc..)\n",
    "\n",
    "- For rounding up our EMIs , we can use the (ceil) function from the (math) module"
   ]
  },
  {
   "cell_type": "code",
   "execution_count": 22,
   "id": "818e0bdd",
   "metadata": {},
   "outputs": [],
   "source": [
    "import math"
   ]
  },
  {
   "cell_type": "code",
   "execution_count": 23,
   "id": "5d22dcf3",
   "metadata": {},
   "outputs": [
    {
     "name": "stdout",
     "output_type": "stream",
     "text": [
      "Help on built-in function ceil in module math:\n",
      "\n",
      "ceil(x, /)\n",
      "    Return the ceiling of x as an Integral.\n",
      "    \n",
      "    This is the smallest integer >= x.\n",
      "\n"
     ]
    }
   ],
   "source": [
    "help(math.ceil)"
   ]
  },
  {
   "cell_type": "code",
   "execution_count": 24,
   "id": "a0c1a619",
   "metadata": {},
   "outputs": [
    {
     "data": {
      "text/plain": [
       "2"
      ]
     },
     "execution_count": 24,
     "metadata": {},
     "output_type": "execute_result"
    }
   ],
   "source": [
    "math.ceil(1.2) ## example "
   ]
  },
  {
   "cell_type": "code",
   "execution_count": 25,
   "id": "b75d8870",
   "metadata": {},
   "outputs": [],
   "source": [
    "def loan_emi(amount,duration,rate,down_payment=0):\n",
    "    loan_amount=amount-down_payment\n",
    "    emi=loan_amount*rate*((1+rate)**duration)/(((1+rate)**duration)-1)\n",
    "    emi=math.ceil(emi)\n",
    "    return emi"
   ]
  },
  {
   "cell_type": "code",
   "execution_count": 26,
   "id": "3f296228",
   "metadata": {},
   "outputs": [
    {
     "data": {
      "text/plain": [
       "14568"
      ]
     },
     "execution_count": 26,
     "metadata": {},
     "output_type": "execute_result"
    }
   ],
   "source": [
    "emi1=loan_emi(amount=1260000,duration=8*12,rate=0.1/12,down_payment=3e5)\n",
    "emi1"
   ]
  },
  {
   "cell_type": "code",
   "execution_count": 27,
   "id": "ce485235",
   "metadata": {},
   "outputs": [
    {
     "data": {
      "text/plain": [
       "15288"
      ]
     },
     "execution_count": 27,
     "metadata": {},
     "output_type": "execute_result"
    }
   ],
   "source": [
    "emi2=loan_emi(amount=1260000,duration=10*12,rate=0.08/12)\n",
    "emi2"
   ]
  },
  {
   "cell_type": "markdown",
   "id": "4f218015",
   "metadata": {},
   "source": [
    "Lets compare the EMIs and display a message for the option with the lower EMI."
   ]
  },
  {
   "cell_type": "code",
   "execution_count": 28,
   "id": "562583b1",
   "metadata": {},
   "outputs": [
    {
     "name": "stdout",
     "output_type": "stream",
     "text": [
      "option 1 has lower EMI : 14568\n"
     ]
    }
   ],
   "source": [
    "if emi1<emi2:\n",
    "    print(\"option 1 has lower EMI : {}\".format(emi1))\n",
    "else:\n",
    "    print(\"option 2 has lower EMI : {}\".format(emi2))"
   ]
  },
  {
   "cell_type": "markdown",
   "id": "f9829fa5",
   "metadata": {},
   "source": [
    "# _______________END__________\n",
    "\n",
    "## Try couple of problems with this function :)"
   ]
  },
  {
   "cell_type": "markdown",
   "id": "e6537465",
   "metadata": {},
   "source": [
    "## GIVEN :"
   ]
  },
  {
   "cell_type": "code",
   "execution_count": 29,
   "id": "db78c029",
   "metadata": {},
   "outputs": [],
   "source": [
    "cost_of_house=800000\n",
    "home_loan_duration=6*12 # months\n",
    "home_loan_rate = 0.07/12 # monthly\n",
    "home_down_payment = 0.25 * 800000"
   ]
  },
  {
   "cell_type": "code",
   "execution_count": 30,
   "id": "a55c373a",
   "metadata": {},
   "outputs": [],
   "source": [
    "emi_house=loan_emi(amount=cost_of_house,duration=home_loan_duration,rate=home_loan_rate,down_payment=home_down_payment)"
   ]
  },
  {
   "cell_type": "code",
   "execution_count": 31,
   "id": "76794e9b",
   "metadata": {},
   "outputs": [
    {
     "data": {
      "text/plain": [
       "10230"
      ]
     },
     "execution_count": 31,
     "metadata": {},
     "output_type": "execute_result"
    }
   ],
   "source": [
    "emi_house"
   ]
  },
  {
   "cell_type": "markdown",
   "id": "82f32f79",
   "metadata": {},
   "source": [
    "## GIVEN:"
   ]
  },
  {
   "cell_type": "code",
   "execution_count": 32,
   "id": "55b3b877",
   "metadata": {},
   "outputs": [],
   "source": [
    "cost_of_car = 60000\n",
    "car_loan_dur=1*12\n",
    "car_loan_rate=.12/12"
   ]
  },
  {
   "cell_type": "code",
   "execution_count": 33,
   "id": "9ac263cf",
   "metadata": {},
   "outputs": [],
   "source": [
    "emi_car=loan_emi(amount=cost_of_car,duration=car_loan_dur,rate=car_loan_rate)"
   ]
  },
  {
   "cell_type": "code",
   "execution_count": 34,
   "id": "116469c1",
   "metadata": {},
   "outputs": [
    {
     "data": {
      "text/plain": [
       "5331"
      ]
     },
     "execution_count": 34,
     "metadata": {},
     "output_type": "execute_result"
    }
   ],
   "source": [
    "emi_car"
   ]
  },
  {
   "cell_type": "markdown",
   "id": "57252825",
   "metadata": {},
   "source": [
    "## Problem statement:\n",
    "\n",
    "If you borrow ₹100000 using a 10 yr loan with an interest rate of 9% per annum , what is the total amount you end up paying as interest ??"
   ]
  },
  {
   "cell_type": "markdown",
   "id": "8e152a03",
   "metadata": {},
   "source": [
    "-One way to solve this problem is to compare the EMIs for two loans: one with given rate of interest , another wuth a 0% rate of interest.The total interest paid is then simply the sum of monthly differences over duration of the loan"
   ]
  },
  {
   "cell_type": "code",
   "execution_count": 35,
   "id": "e8df43be",
   "metadata": {},
   "outputs": [
    {
     "data": {
      "text/plain": [
       "1267"
      ]
     },
     "execution_count": 35,
     "metadata": {},
     "output_type": "execute_result"
    }
   ],
   "source": [
    "emi_with_interest=loan_emi(amount=100000,duration=10*12,rate=0.09/12)\n",
    "emi_with_interest"
   ]
  },
  {
   "cell_type": "code",
   "execution_count": 36,
   "id": "8fe75433",
   "metadata": {},
   "outputs": [
    {
     "ename": "ZeroDivisionError",
     "evalue": "float division by zero",
     "output_type": "error",
     "traceback": [
      "\u001b[1;31m---------------------------------------------------------------------------\u001b[0m",
      "\u001b[1;31mZeroDivisionError\u001b[0m                         Traceback (most recent call last)",
      "\u001b[1;32m<ipython-input-36-c90559ab63c4>\u001b[0m in \u001b[0;36m<module>\u001b[1;34m\u001b[0m\n\u001b[1;32m----> 1\u001b[1;33m \u001b[0memi_without_interest\u001b[0m\u001b[1;33m=\u001b[0m\u001b[0mloan_emi\u001b[0m\u001b[1;33m(\u001b[0m\u001b[0mamount\u001b[0m\u001b[1;33m=\u001b[0m\u001b[1;36m100000\u001b[0m\u001b[1;33m,\u001b[0m\u001b[0mduration\u001b[0m\u001b[1;33m=\u001b[0m\u001b[1;36m10\u001b[0m\u001b[1;33m*\u001b[0m\u001b[1;36m12\u001b[0m\u001b[1;33m,\u001b[0m\u001b[0mrate\u001b[0m\u001b[1;33m=\u001b[0m\u001b[1;36m0.\u001b[0m \u001b[1;33m/\u001b[0m\u001b[1;36m12\u001b[0m\u001b[1;33m)\u001b[0m\u001b[1;33m\u001b[0m\u001b[1;33m\u001b[0m\u001b[0m\n\u001b[0m\u001b[0;32m      2\u001b[0m \u001b[0memi_without_interest\u001b[0m\u001b[1;33m\u001b[0m\u001b[1;33m\u001b[0m\u001b[0m\n",
      "\u001b[1;32m<ipython-input-25-36d96d40ef76>\u001b[0m in \u001b[0;36mloan_emi\u001b[1;34m(amount, duration, rate, down_payment)\u001b[0m\n\u001b[0;32m      1\u001b[0m \u001b[1;32mdef\u001b[0m \u001b[0mloan_emi\u001b[0m\u001b[1;33m(\u001b[0m\u001b[0mamount\u001b[0m\u001b[1;33m,\u001b[0m\u001b[0mduration\u001b[0m\u001b[1;33m,\u001b[0m\u001b[0mrate\u001b[0m\u001b[1;33m,\u001b[0m\u001b[0mdown_payment\u001b[0m\u001b[1;33m=\u001b[0m\u001b[1;36m0\u001b[0m\u001b[1;33m)\u001b[0m\u001b[1;33m:\u001b[0m\u001b[1;33m\u001b[0m\u001b[1;33m\u001b[0m\u001b[0m\n\u001b[0;32m      2\u001b[0m     \u001b[0mloan_amount\u001b[0m\u001b[1;33m=\u001b[0m\u001b[0mamount\u001b[0m\u001b[1;33m-\u001b[0m\u001b[0mdown_payment\u001b[0m\u001b[1;33m\u001b[0m\u001b[1;33m\u001b[0m\u001b[0m\n\u001b[1;32m----> 3\u001b[1;33m     \u001b[0memi\u001b[0m\u001b[1;33m=\u001b[0m\u001b[0mloan_amount\u001b[0m\u001b[1;33m*\u001b[0m\u001b[0mrate\u001b[0m\u001b[1;33m*\u001b[0m\u001b[1;33m(\u001b[0m\u001b[1;33m(\u001b[0m\u001b[1;36m1\u001b[0m\u001b[1;33m+\u001b[0m\u001b[0mrate\u001b[0m\u001b[1;33m)\u001b[0m\u001b[1;33m**\u001b[0m\u001b[0mduration\u001b[0m\u001b[1;33m)\u001b[0m\u001b[1;33m/\u001b[0m\u001b[1;33m(\u001b[0m\u001b[1;33m(\u001b[0m\u001b[1;33m(\u001b[0m\u001b[1;36m1\u001b[0m\u001b[1;33m+\u001b[0m\u001b[0mrate\u001b[0m\u001b[1;33m)\u001b[0m\u001b[1;33m**\u001b[0m\u001b[0mduration\u001b[0m\u001b[1;33m)\u001b[0m\u001b[1;33m-\u001b[0m\u001b[1;36m1\u001b[0m\u001b[1;33m)\u001b[0m\u001b[1;33m\u001b[0m\u001b[1;33m\u001b[0m\u001b[0m\n\u001b[0m\u001b[0;32m      4\u001b[0m     \u001b[0memi\u001b[0m\u001b[1;33m=\u001b[0m\u001b[0mmath\u001b[0m\u001b[1;33m.\u001b[0m\u001b[0mceil\u001b[0m\u001b[1;33m(\u001b[0m\u001b[0memi\u001b[0m\u001b[1;33m)\u001b[0m\u001b[1;33m\u001b[0m\u001b[1;33m\u001b[0m\u001b[0m\n\u001b[0;32m      5\u001b[0m     \u001b[1;32mreturn\u001b[0m \u001b[0memi\u001b[0m\u001b[1;33m\u001b[0m\u001b[1;33m\u001b[0m\u001b[0m\n",
      "\u001b[1;31mZeroDivisionError\u001b[0m: float division by zero"
     ]
    }
   ],
   "source": [
    "emi_without_interest=loan_emi(amount=100000,duration=10*12,rate=0. /12)\n",
    "emi_without_interest"
   ]
  },
  {
   "cell_type": "markdown",
   "id": "795101b7",
   "metadata": {},
   "source": [
    "### ZeroDivisionError: float division by zero\n",
    "\n",
    "It tells that we are trying to divide a number by zero.\n",
    "You can use the ( try ) and ( except ) statements to handle and exception..Here`s an example"
   ]
  },
  {
   "cell_type": "code",
   "execution_count": 37,
   "id": "ef37b021",
   "metadata": {},
   "outputs": [
    {
     "name": "stdout",
     "output_type": "stream",
     "text": [
      "Now computing the result..\n",
      "failed to compute result because you were trying to divide by zero\n",
      "None\n"
     ]
    }
   ],
   "source": [
    "try:\n",
    "    print(\"Now computing the result..\")\n",
    "    result=5/0\n",
    "    print(\"computation was completed\")\n",
    "except ZeroDivisionError: ## you can use multiple except statement if you expect more errors\n",
    "    print(\"failed to compute result because you were trying to divide by zero\")\n",
    "    result= None\n",
    "print(result)"
   ]
  },
  {
   "cell_type": "markdown",
   "id": "0205e89e",
   "metadata": {},
   "source": [
    "## THEREFORE , the function should be def as :\n",
    "### we can use the updated Function for further prblm."
   ]
  },
  {
   "cell_type": "code",
   "execution_count": 51,
   "id": "5e24d1a7",
   "metadata": {},
   "outputs": [],
   "source": [
    "def loan_emi(amount,duration,rate,down_payment=0):\n",
    "    loan_amount=amount-down_payment\n",
    "    try:\n",
    "        emi=loan_amount*rate*((1+rate)**duration)/(((1+rate)**duration)-1)\n",
    "    except ZeroDivisionError:\n",
    "        emi=loan_amount/duration\n",
    "        emi=math.ceil(emi)\n",
    "        return emi"
   ]
  },
  {
   "cell_type": "markdown",
   "id": "674be854",
   "metadata": {},
   "source": [
    "### NOW TRY SOLVING THE PENDING PROBLEM "
   ]
  },
  {
   "cell_type": "code",
   "execution_count": 54,
   "id": "0caa5137",
   "metadata": {},
   "outputs": [],
   "source": [
    "emi_with_interest=loan_emi(amount=100000,duration=10*12,rate=0.09/12)\n",
    "emi_with_interest"
   ]
  },
  {
   "cell_type": "code",
   "execution_count": 47,
   "id": "214385b9",
   "metadata": {},
   "outputs": [
    {
     "data": {
      "text/plain": [
       "834"
      ]
     },
     "execution_count": 47,
     "metadata": {},
     "output_type": "execute_result"
    }
   ],
   "source": [
    "emi_without_interest=loan_emi(amount=100000,duration=10*12,rate=0)\n",
    "emi_without_interest"
   ]
  },
  {
   "cell_type": "code",
   "execution_count": null,
   "id": "ad6a5b9d",
   "metadata": {},
   "outputs": [],
   "source": [
    "total_interest = (emi_with_interest - emi_without_interest) * 10*12\n",
    "print(\"total interest paid is : {}\".format(total_interest))"
   ]
  },
  {
   "cell_type": "markdown",
   "id": "ad96ee32",
   "metadata": {},
   "source": [
    "# Documentation functions using Docstrings\n",
    "--Explain about the arguments and code"
   ]
  },
  {
   "cell_type": "code",
   "execution_count": 60,
   "id": "46516c9f",
   "metadata": {},
   "outputs": [],
   "source": [
    "def loan_emi(amount,duration,rate,down_payment=0):\n",
    "    \"\"\" calculate the emi of a loan\n",
    "\n",
    "    Arguments:\n",
    "        amount=Total amount to be spent(loan+down_payment)\n",
    "        duration=Duration of loan (in months)\n",
    "        rate=Rate of interest(monthly)\n",
    "        down_payment(optional)=initial payment\"\"\"\n",
    "    loan_amount=amount=down_payment\n",
    "    try:\n",
    "        emi=loan_amount*rate*((1+rate)**duration)/(((1+rate)**duration)-1)\n",
    "    except ZeroDivisionError:\n",
    "        emi=loan_amount/duration\n",
    "        emi-math.ceil(emi)\n",
    "        return emi\n"
   ]
  },
  {
   "cell_type": "code",
   "execution_count": 61,
   "id": "375a7729",
   "metadata": {},
   "outputs": [
    {
     "name": "stdout",
     "output_type": "stream",
     "text": [
      "Help on function loan_emi in module __main__:\n",
      "\n",
      "loan_emi(amount, duration, rate, down_payment=0)\n",
      "    calculate the emi of a loan\n",
      "    \n",
      "    Arguments:\n",
      "        amount=Total amount to be spent(loan+down_payment)\n",
      "        duration=Duration of loan (in months)\n",
      "        rate=Rate of interest(monthly)\n",
      "        down_payment(optional)=initial payment\n",
      "\n"
     ]
    }
   ],
   "source": [
    "help(loan_emi)"
   ]
  },
  {
   "cell_type": "code",
   "execution_count": null,
   "id": "24348c8b",
   "metadata": {},
   "outputs": [],
   "source": []
  }
 ],
 "metadata": {
  "kernelspec": {
   "display_name": "Python 3",
   "language": "python",
   "name": "python3"
  },
  "language_info": {
   "codemirror_mode": {
    "name": "ipython",
    "version": 3
   },
   "file_extension": ".py",
   "mimetype": "text/x-python",
   "name": "python",
   "nbconvert_exporter": "python",
   "pygments_lexer": "ipython3",
   "version": "3.8.8"
  }
 },
 "nbformat": 4,
 "nbformat_minor": 5
}
